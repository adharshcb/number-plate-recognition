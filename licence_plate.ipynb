{
  "cells": [
    {
      "cell_type": "markdown",
      "metadata": {
        "id": "view-in-github",
        "colab_type": "text"
      },
      "source": [
        "<a href=\"https://colab.research.google.com/github/adharshcb/number-plate-recognition/blob/main/licence_plate.ipynb\" target=\"_parent\"><img src=\"https://colab.research.google.com/assets/colab-badge.svg\" alt=\"Open In Colab\"/></a>"
      ]
    },
    {
      "cell_type": "code",
      "execution_count": null,
      "metadata": {
        "colab": {
          "base_uri": "https://localhost:8080/"
        },
        "id": "dGNif9c2uDev",
        "outputId": "61e15b75-2c6c-4a01-fc68-74e1bf6734ad"
      },
      "outputs": [
        {
          "output_type": "stream",
          "name": "stdout",
          "text": [
            "Mounted at /content/gdrive/\n"
          ]
        }
      ],
      "source": [
        "from google.colab import drive\n",
        "drive.mount('/content/gdrive/')"
      ]
    },
    {
      "cell_type": "code",
      "execution_count": null,
      "metadata": {
        "colab": {
          "base_uri": "https://localhost:8080/"
        },
        "id": "ffh9GpZKvCzv",
        "outputId": "efb595f2-543a-404f-f072-fb485df0dfb9"
      },
      "outputs": [
        {
          "output_type": "stream",
          "name": "stdout",
          "text": [
            "/content/gdrive/MyDrive/objectDetection/yolov7\n"
          ]
        }
      ],
      "source": [
        "%cd /content/gdrive/MyDrive/"
      ]
    },
    {
      "cell_type": "code",
      "execution_count": null,
      "metadata": {
        "id": "3xUKtGQ8vHX4",
        "colab": {
          "base_uri": "https://localhost:8080/"
        },
        "outputId": "220622a8-acd7-4b90-904a-9b31774d9582"
      },
      "outputs": [
        {
          "output_type": "stream",
          "name": "stdout",
          "text": [
            "cfg\t\t\t\t    inference\t\t   runs\n",
            "crop.jpg\t\t\t    licence_plate_best.pt  scripts\n",
            "data\t\t\t\t    LICENSE.md\t\t   test.py\n",
            "deploy\t\t\t\t    models\t\t   tools\n",
            "detect.py\t\t\t    objectDetection\t   traced_model.pt\n",
            "Different-Colors-Number-Plates.jpg  paper\t\t   train.py\n",
            "edge.jpg\t\t\t    __pycache__\t\t   utils\n",
            "export.py\t\t\t    README.md\t\t   yolov7-e6e.pt\n",
            "figure\t\t\t\t    requirements.txt\n",
            "hubconf.py\t\t\t    rotated.jpg\n"
          ]
        }
      ],
      "source": [
        "!ls"
      ]
    },
    {
      "cell_type": "code",
      "execution_count": null,
      "metadata": {
        "id": "-HuINxwE9m9f"
      },
      "outputs": [],
      "source": [
        "!python train.py --weights yolov7x.pt --img-size 640 --cfg cfg/training/yolov7x-custom.yaml --data data/custom_data.yaml --device 0 --batch-size 16 --epochs 100 --hyp data/hyp.scratch.custom.yaml"
      ]
    },
    {
      "cell_type": "code",
      "execution_count": null,
      "metadata": {
        "id": "ki99tL3JvI9g",
        "colab": {
          "base_uri": "https://localhost:8080/"
        },
        "outputId": "8b6c58e8-c593-4a20-879a-9cb705aa601d"
      },
      "outputs": [
        {
          "output_type": "stream",
          "name": "stdout",
          "text": [
            "CUDA not available - defaulting to CPU. Note: This module is much faster with a GPU.\n",
            "Namespace(agnostic_nms=False, augment=False, classes=None, conf_thres=0.5, device='', exist_ok=False, img_size=640, iou_thres=0.45, name='exp', no_trace=True, nosave=False, project='runs/detect', save_conf=False, save_txt=False, source='/content/gdrive/MyDrive/image30.jpg', update=False, view_img=False, weights=['runs/train/exp3/weights/best.pt'])\n",
            "YOLOR 🚀 v0.1-115-g072f76c torch 1.12.1+cu113 CPU\n",
            "\n",
            "Fusing layers... \n",
            "IDetect.fuse\n",
            "Model Summary: 362 layers, 70809396 parameters, 0 gradients\n",
            "/usr/local/lib/python3.8/dist-packages/torch/functional.py:478: UserWarning: torch.meshgrid: in an upcoming release, it will be required to pass the indexing argument. (Triggered internally at  ../aten/src/ATen/native/TensorShape.cpp:2894.)\n",
            "  return _VF.meshgrid(tensors, **kwargs)  # type: ignore[attr-defined]\n",
            "[12.5, 37.5, 33.3, 222.0]\n",
            "jsdkjlsjf;slkf\n",
            "inside\n",
            "read okay None\n",
            "0 0 0 333 75\n",
            "333 > 12.5 and 333 < 37.5 and 75 > 33.3 and 75 < 222.0\n",
            "1 2 2 329 30\n",
            "329 > 12.5 and 329 < 37.5 and 30 > 33.3 and 30 < 222.0\n",
            "2 17 14 34 33\n",
            "34 > 12.5 and 34 < 37.5 and 33 > 33.3 and 33 < 222.0\n",
            "3 160 22 30 32\n",
            "30 > 12.5 and 30 < 37.5 and 32 > 33.3 and 32 < 222.0\n",
            "4 52 16 30 33\n",
            "30 > 12.5 and 30 < 37.5 and 33 > 33.3 and 33 < 222.0\n",
            "5 204 24 26 32\n",
            "26 > 12.5 and 26 < 37.5 and 32 > 33.3 and 32 < 222.0\n",
            "6 231 25 27 32\n",
            "27 > 12.5 and 27 < 37.5 and 32 > 33.3 and 32 < 222.0\n",
            "7 286 27 29 33\n",
            "29 > 12.5 and 29 < 37.5 and 33 > 33.3 and 33 < 222.0\n",
            "8 258 26 28 32\n",
            "28 > 12.5 and 28 < 37.5 and 32 > 33.3 and 32 < 222.0\n",
            "9 95 19 26 32\n",
            "26 > 12.5 and 26 < 37.5 and 32 > 33.3 and 32 < 222.0\n",
            "10 121 20 25 32\n",
            "25 > 12.5 and 25 < 37.5 and 32 > 33.3 and 32 < 222.0\n",
            "11 171 31 9 15\n",
            "9 > 12.5 and 9 < 37.5 and 15 > 33.3 and 15 < 222.0\n",
            "12 148 43 11 10\n",
            "11 > 12.5 and 11 < 37.5 and 10 > 33.3 and 10 < 222.0\n",
            "13 192 45 11 10\n",
            "11 > 12.5 and 11 < 37.5 and 10 > 33.3 and 10 < 222.0\n",
            "14 84 39 11 10\n",
            "11 > 12.5 and 11 < 37.5 and 10 > 33.3 and 10 < 222.0\n",
            "[]\n",
            "1 transport, Done. (1802.8ms) Inference, (1.1ms) NMS\n",
            " The image with the result is saved in: runs/detect/exp56/image30.jpg\n",
            "Done. (2.059s)\n"
          ]
        }
      ],
      "source": [
        "!python detect.py --weights runs/train/exp3/weights/best.pt --img-size 640 --conf 0.5 --source /content/gdrive/MyDrive/image30.jpg --no-trace"
      ]
    },
    {
      "cell_type": "code",
      "execution_count": null,
      "metadata": {
        "id": "vzAZk2DNNvG-"
      },
      "outputs": [],
      "source": [
        "!python detect.py --weights runs/train/exp3/weights/best.pt --img-size 640 --conf 0.3 --source /content/gdrive/MyDrive/new2.mp4 --no-trace"
      ]
    },
    {
      "cell_type": "code",
      "execution_count": null,
      "metadata": {
        "id": "8HvkRvUUMm5F"
      },
      "outputs": [],
      "source": [
        "!wget https://www.businessleague.in/wp-content/uploads/2022/10/Different-Colors-Number-Plates.jpg"
      ]
    },
    {
      "cell_type": "code",
      "execution_count": null,
      "metadata": {
        "id": "TtuChGb6n3P3"
      },
      "outputs": [],
      "source": [
        "!pip list"
      ]
    },
    {
      "cell_type": "code",
      "source": [
        "!sudo apt-get update\n",
        "!sudo apt-get install libleptonica-dev tesseract-ocr tesseract-ocr-dev libtesseract-dev python3-pil tesseract-ocr-eng tesseract-ocr-script-latn"
      ],
      "metadata": {
        "id": "8TJ5Sr5xxov8"
      },
      "execution_count": null,
      "outputs": []
    },
    {
      "cell_type": "code",
      "source": [
        "!pip install easyocr"
      ],
      "metadata": {
        "id": "-SQCn_X3x0jz"
      },
      "execution_count": null,
      "outputs": []
    },
    {
      "cell_type": "code",
      "execution_count": null,
      "metadata": {
        "id": "eaBydF56gM9R"
      },
      "outputs": [],
      "source": [
        "import easyocr"
      ]
    },
    {
      "cell_type": "code",
      "source": [
        "reader = easyocr.Reader(['en'])"
      ],
      "metadata": {
        "id": "vhqUoC4W5xfg"
      },
      "execution_count": null,
      "outputs": []
    },
    {
      "cell_type": "code",
      "source": [
        "result = reader.readtext('crop.jpg')\n",
        "result"
      ],
      "metadata": {
        "id": "vMwFolLI6ar7"
      },
      "execution_count": null,
      "outputs": []
    },
    {
      "cell_type": "code",
      "execution_count": null,
      "metadata": {
        "id": "dLgvHZT0gOTH"
      },
      "outputs": [],
      "source": [
        "%cd runs/detect/exp17/"
      ]
    },
    {
      "cell_type": "code",
      "execution_count": null,
      "metadata": {
        "id": "ofU35pxygXT4"
      },
      "outputs": [],
      "source": [
        "!ls -la"
      ]
    },
    {
      "cell_type": "code",
      "execution_count": null,
      "metadata": {
        "id": "tvHvm8NhgbN-"
      },
      "outputs": [],
      "source": [
        "!pip install -q keras-ocr"
      ]
    },
    {
      "cell_type": "markdown",
      "metadata": {
        "id": "K6sdRPLQ2jlt"
      },
      "source": [
        "Yolov7 e6e"
      ]
    },
    {
      "cell_type": "code",
      "execution_count": null,
      "metadata": {
        "id": "Zx03Qow525pd"
      },
      "outputs": [],
      "source": [
        "!wget https://github.com/WongKinYiu/yolov7/releases/download/v0.1/yolov7-e6e.pt"
      ]
    },
    {
      "cell_type": "code",
      "execution_count": null,
      "metadata": {
        "id": "CvGgHdMC2sBz"
      },
      "outputs": [],
      "source": [
        "!python train.py --weights yolov7-e6e.pt --img-size 1280 --cfg cfg/training/yolov7-e6e.yaml --data data/custom_data.yaml --device 0 --batch-size 8 --epochs 100 --hyp data/hyp.scratch.custom.yaml"
      ]
    }
  ],
  "metadata": {
    "accelerator": "GPU",
    "colab": {
      "provenance": [],
      "authorship_tag": "ABX9TyNGvcFBDCGBPczWpdocoqXq",
      "include_colab_link": true
    },
    "gpuClass": "standard",
    "kernelspec": {
      "display_name": "Python 3",
      "name": "python3"
    },
    "language_info": {
      "name": "python"
    }
  },
  "nbformat": 4,
  "nbformat_minor": 0
}